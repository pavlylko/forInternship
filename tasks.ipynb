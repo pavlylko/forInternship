{
 "cells": [
  {
   "cell_type": "code",
   "execution_count": 212,
   "metadata": {},
   "outputs": [],
   "source": [
    "from collections import Counter, OrderedDict\n",
    "from operator import itemgetter\n",
    "import numpy as np\n",
    "f = open('coursera_sessions_train.txt')\n",
    "\n",
    "views_data = []\n",
    "buy_data = []\n",
    "all_id = []\n",
    "purchase_id = []\n",
    "\n",
    "# Записываем два списка, один из просмотров, другой из покупок, и отсеиваем проверкой сессии без покупок\n",
    "for line in f:\n",
    "    if line.split(';')[1] != '\\n':\n",
    "        views_data.append(line.split(';')[0].split(','))\n",
    "        buy_data.append(line.split(';')[1].split(','))\n",
    "        purchase_id += line.strip().split(';')[1].split(',') # количество покупок по каждому товару среди всех сессий\n",
    "    all_id += line.split(';')[0].split(',') # количество встреч всех id в просмотрах\n",
    "\n",
    "occurences = dict(Counter(all_id)) # словарь всех id и соответствующих им просмотров\n",
    "\n",
    "# Убираем символ переноса из каждого последнего элемента\n",
    "for id_list in buy_data:\n",
    "    id_list[-1] = id_list[-1].strip()"
   ]
  },
  {
   "cell_type": "code",
   "execution_count": 181,
   "metadata": {},
   "outputs": [],
   "source": [
    "views_sorted = []\n",
    "for i in range(len(views_data)):\n",
    "    views_data[i] = list(OrderedDict.fromkeys(views_data[i])) # удалим дубликаты\n",
    "    orderable = [(x, occurences[x]) for x in views_data[i]] # создадим список кортежей для текущей сессии\n",
    "    ss = sorted(orderable, key = itemgetter(1), reverse = True) # отсортируем кортежи по второму значению (просмотры)\n",
    "    views_sorted.append([x[0] for x in ss]) # запишем в список список наших отсортированных id"
   ]
  },
  {
   "cell_type": "markdown",
   "metadata": {},
   "source": [
    "### Посчитаем тестовые метрики, чтобы сравнить с правильными ответами:"
   ]
  },
  {
   "cell_type": "code",
   "execution_count": 182,
   "metadata": {},
   "outputs": [
    {
     "data": {
      "text/plain": [
       "['63', '64', '60', '61', '65', '66', '67', '68', '59', '62']"
      ]
     },
     "execution_count": 182,
     "metadata": {},
     "output_type": "execute_result"
    }
   ],
   "source": [
    "views_sorted[0]"
   ]
  },
  {
   "cell_type": "code",
   "execution_count": 183,
   "metadata": {},
   "outputs": [
    {
     "data": {
      "text/plain": [
       "['67', '60', '63']"
      ]
     },
     "execution_count": 183,
     "metadata": {},
     "output_type": "execute_result"
    }
   ],
   "source": [
    "buy_data[0]"
   ]
  },
  {
   "cell_type": "code",
   "execution_count": 184,
   "metadata": {},
   "outputs": [],
   "source": [
    "intersection5 = list(set(views_sorted[0][:5]) & set(buy_data[0]))"
   ]
  },
  {
   "cell_type": "code",
   "execution_count": 185,
   "metadata": {},
   "outputs": [
    {
     "data": {
      "text/plain": [
       "0.4"
      ]
     },
     "execution_count": 185,
     "metadata": {},
     "output_type": "execute_result"
    }
   ],
   "source": [
    "precision5 = len(intersection5) / 5.\n",
    "precision5"
   ]
  },
  {
   "cell_type": "code",
   "execution_count": 186,
   "metadata": {},
   "outputs": [
    {
     "data": {
      "text/plain": [
       "0.6666666666666666"
      ]
     },
     "execution_count": 186,
     "metadata": {},
     "output_type": "execute_result"
    }
   ],
   "source": [
    "recall5 = len(intersection5) / float(len(buy_data[0]))\n",
    "recall5"
   ]
  },
  {
   "cell_type": "code",
   "execution_count": 187,
   "metadata": {},
   "outputs": [],
   "source": [
    "intersection1 = buy_data[0].count(views_sorted[0][0])"
   ]
  },
  {
   "cell_type": "code",
   "execution_count": 188,
   "metadata": {},
   "outputs": [
    {
     "data": {
      "text/plain": [
       "1.0"
      ]
     },
     "execution_count": 188,
     "metadata": {},
     "output_type": "execute_result"
    }
   ],
   "source": [
    "precision1 = intersection1 / 1.\n",
    "precision1"
   ]
  },
  {
   "cell_type": "code",
   "execution_count": 189,
   "metadata": {},
   "outputs": [
    {
     "data": {
      "text/plain": [
       "0.3333333333333333"
      ]
     },
     "execution_count": 189,
     "metadata": {},
     "output_type": "execute_result"
    }
   ],
   "source": [
    "recall1 = intersection1 / float(len(buy_data[0]))\n",
    "recall1"
   ]
  },
  {
   "cell_type": "markdown",
   "metadata": {},
   "source": [
    "Ответы совпадают"
   ]
  },
  {
   "cell_type": "markdown",
   "metadata": {},
   "source": [
    "### Перейдем к подсчету на всем списке (Рекомендации по частоте просмотров товаров - качество на обучающей выборке:): "
   ]
  },
  {
   "cell_type": "code",
   "execution_count": 73,
   "metadata": {},
   "outputs": [],
   "source": [
    "precision_1, recall_1 = [], []\n",
    "precision_5, recall_5 = [], []\n",
    "for i in range(len(views_sorted)):\n",
    "    intersection5 = list(set(views_sorted[i][:5]) & set(buy_data[i]))\n",
    "    precision_5.append(len(intersection5) / 5.)\n",
    "    recall_5.append(len(intersection5) / float(len(buy_data[i])))\n",
    "        \n",
    "    intersection1 = buy_data[i].count(views_sorted[i][0])\n",
    "    precision_1.append(intersection1 / 1.)\n",
    "    recall_1.append(intersection1 / float(len(buy_data[i])))"
   ]
  },
  {
   "cell_type": "code",
   "execution_count": 74,
   "metadata": {},
   "outputs": [],
   "source": [
    "avg_recall_1 = np.mean(recall_1)\n",
    "avg_precision_1 = np.mean(precision_1)\n",
    "avg_recall_5 = np.mean(recall_5)\n",
    "avg_precision_5 = np.mean(precision_5)"
   ]
  },
  {
   "cell_type": "code",
   "execution_count": 75,
   "metadata": {},
   "outputs": [
    {
     "name": "stdout",
     "output_type": "stream",
     "text": [
      "0.44 0.51 0.82 0.21\n"
     ]
    }
   ],
   "source": [
    "r1 = '%.2f' % round(avg_recall_1, 2)\n",
    "p1 = '%.2f' % round(avg_precision_1, 2)\n",
    "r5 = '%.2f' % round(avg_recall_5, 2)\n",
    "p5 = '%.2f' % round(avg_precision_5, 2)\n",
    "print r1, p1, r5, p5"
   ]
  },
  {
   "cell_type": "markdown",
   "metadata": {},
   "source": [
    "### Рекомендации по частоте просмотров товаров - качество на тестовой выборке:"
   ]
  },
  {
   "cell_type": "code",
   "execution_count": 236,
   "metadata": {},
   "outputs": [],
   "source": [
    "test = open('coursera_sessions_test.txt')"
   ]
  },
  {
   "cell_type": "code",
   "execution_count": 237,
   "metadata": {},
   "outputs": [],
   "source": [
    "views_test_data = []\n",
    "buy_test_data = []\n",
    "all_test_id = []\n",
    "\n",
    "for line in test:\n",
    "    if line.split(';')[1] != '\\n':\n",
    "        views_test_data.append(line.split(';')[0].split(','))\n",
    "        buy_test_data.append(line.split(';')[1].split(','))\n",
    "    all_test_id += line.split(';')[0].split(',')"
   ]
  },
  {
   "cell_type": "code",
   "execution_count": 277,
   "metadata": {},
   "outputs": [
    {
     "ename": "KeyError",
     "evalue": "'69'",
     "output_type": "error",
     "traceback": [
      "\u001b[0;31m---------------------------------------------------------------------------\u001b[0m",
      "\u001b[0;31mKeyError\u001b[0m                                  Traceback (most recent call last)",
      "\u001b[0;32m<ipython-input-277-585d278d30ca>\u001b[0m in \u001b[0;36m<module>\u001b[0;34m()\u001b[0m\n\u001b[1;32m      2\u001b[0m \u001b[0;32mfor\u001b[0m \u001b[0mi\u001b[0m \u001b[0;32min\u001b[0m \u001b[0mrange\u001b[0m\u001b[0;34m(\u001b[0m\u001b[0mlen\u001b[0m\u001b[0;34m(\u001b[0m\u001b[0mviews_test_data\u001b[0m\u001b[0;34m)\u001b[0m\u001b[0;34m)\u001b[0m\u001b[0;34m:\u001b[0m\u001b[0;34m\u001b[0m\u001b[0m\n\u001b[1;32m      3\u001b[0m     \u001b[0mviews_test_data\u001b[0m\u001b[0;34m[\u001b[0m\u001b[0mi\u001b[0m\u001b[0;34m]\u001b[0m \u001b[0;34m=\u001b[0m \u001b[0mlist\u001b[0m\u001b[0;34m(\u001b[0m\u001b[0mOrderedDict\u001b[0m\u001b[0;34m.\u001b[0m\u001b[0mfromkeys\u001b[0m\u001b[0;34m(\u001b[0m\u001b[0mviews_test_data\u001b[0m\u001b[0;34m[\u001b[0m\u001b[0mi\u001b[0m\u001b[0;34m]\u001b[0m\u001b[0;34m)\u001b[0m\u001b[0;34m)\u001b[0m \u001b[0;31m# удалим дубликаты\u001b[0m\u001b[0;34m\u001b[0m\u001b[0m\n\u001b[0;32m----> 4\u001b[0;31m     \u001b[0morderable\u001b[0m \u001b[0;34m=\u001b[0m \u001b[0;34m[\u001b[0m\u001b[0;34m(\u001b[0m\u001b[0mx\u001b[0m\u001b[0;34m,\u001b[0m \u001b[0moccurences\u001b[0m\u001b[0;34m[\u001b[0m\u001b[0mx\u001b[0m\u001b[0;34m]\u001b[0m\u001b[0;34m)\u001b[0m \u001b[0;32mfor\u001b[0m \u001b[0mx\u001b[0m \u001b[0;32min\u001b[0m \u001b[0mviews_test_data\u001b[0m\u001b[0;34m[\u001b[0m\u001b[0mi\u001b[0m\u001b[0;34m]\u001b[0m\u001b[0;34m]\u001b[0m \u001b[0;31m# создадим список кортежей для текущей сессии\u001b[0m\u001b[0;34m\u001b[0m\u001b[0m\n\u001b[0m\u001b[1;32m      5\u001b[0m     \u001b[0mss\u001b[0m \u001b[0;34m=\u001b[0m \u001b[0msorted\u001b[0m\u001b[0;34m(\u001b[0m\u001b[0morderable\u001b[0m\u001b[0;34m,\u001b[0m \u001b[0mkey\u001b[0m \u001b[0;34m=\u001b[0m \u001b[0mitemgetter\u001b[0m\u001b[0;34m(\u001b[0m\u001b[0;36m1\u001b[0m\u001b[0;34m)\u001b[0m\u001b[0;34m,\u001b[0m \u001b[0mreverse\u001b[0m \u001b[0;34m=\u001b[0m \u001b[0mTrue\u001b[0m\u001b[0;34m)\u001b[0m \u001b[0;31m# отсортируем кортежи по второму значению (просмотры)\u001b[0m\u001b[0;34m\u001b[0m\u001b[0m\n\u001b[1;32m      6\u001b[0m     \u001b[0mviews_test_sorted\u001b[0m\u001b[0;34m.\u001b[0m\u001b[0mappend\u001b[0m\u001b[0;34m(\u001b[0m\u001b[0;34m[\u001b[0m\u001b[0mx\u001b[0m\u001b[0;34m[\u001b[0m\u001b[0;36m0\u001b[0m\u001b[0;34m]\u001b[0m \u001b[0;32mfor\u001b[0m \u001b[0mx\u001b[0m \u001b[0;32min\u001b[0m \u001b[0mss\u001b[0m\u001b[0;34m]\u001b[0m\u001b[0;34m)\u001b[0m \u001b[0;31m# запишем в список список наших отсортированных id\u001b[0m\u001b[0;34m\u001b[0m\u001b[0m\n",
      "\u001b[0;31mKeyError\u001b[0m: '69'"
     ]
    }
   ],
   "source": [
    "views_test_sorted = []\n",
    "for i in range(len(views_test_data)):\n",
    "    views_test_data[i] = list(OrderedDict.fromkeys(views_test_data[i])) # удалим дубликаты\n",
    "    orderable = [(x, occurences[x]) for x in views_test_data[i]] # создадим список кортежей для текущей сессии\n",
    "    ss = sorted(orderable, key = itemgetter(1), reverse = True) # отсортируем кортежи по второму значению (просмотры)\n",
    "    views_test_sorted.append([x[0] for x in ss]) # запишем в список список наших отсортированных id"
   ]
  },
  {
   "cell_type": "markdown",
   "metadata": {},
   "source": [
    "### Рекомендации по частоте покупок товаров - качество на обучающей выборке:"
   ]
  },
  {
   "cell_type": "code",
   "execution_count": null,
   "metadata": {},
   "outputs": [],
   "source": []
  }
 ],
 "metadata": {
  "kernelspec": {
   "display_name": "Python 2",
   "language": "python",
   "name": "python2"
  },
  "language_info": {
   "codemirror_mode": {
    "name": "ipython",
    "version": 2
   },
   "file_extension": ".py",
   "mimetype": "text/x-python",
   "name": "python",
   "nbconvert_exporter": "python",
   "pygments_lexer": "ipython2",
   "version": "2.7.9"
  }
 },
 "nbformat": 4,
 "nbformat_minor": 2
}
